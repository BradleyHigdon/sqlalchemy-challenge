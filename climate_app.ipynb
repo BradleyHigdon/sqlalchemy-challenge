{
 "cells": [
  {
   "cell_type": "code",
   "execution_count": 1,
   "metadata": {},
   "outputs": [],
   "source": [
    "%matplotlib inline\n",
    "from matplotlib import style\n",
    "style.use('fivethirtyeight')\n",
    "import matplotlib.pyplot as plt\n",
    "\n",
    "import pandas as pd\n",
    "import datetime as dt\n",
    "import numpy as np\n",
    "\n",
    "import sqlalchemy\n",
    "from sqlalchemy.ext.automap import automap_base\n",
    "from sqlalchemy.orm import Session\n",
    "from sqlalchemy import create_engine, func\n",
    "\n",
    "from flask import Flask, jsonify"
   ]
  },
  {
   "cell_type": "code",
   "execution_count": 2,
   "metadata": {},
   "outputs": [],
   "source": [
    "#Creating engine\n",
    "engine = create_engine(\"sqlite:///Resources/hawaii.sqlite\", echo = False)"
   ]
  },
  {
   "cell_type": "code",
   "execution_count": 3,
   "metadata": {},
   "outputs": [],
   "source": [
    "# reflect an existing database into a new model\n",
    "Base = automap_base()\n",
    "# reflect the tables\n",
    "Base.prepare(engine, reflect = True)"
   ]
  },
  {
   "cell_type": "code",
   "execution_count": 4,
   "metadata": {},
   "outputs": [
    {
     "data": {
      "text/plain": [
       "['measurement', 'station']"
      ]
     },
     "execution_count": 4,
     "metadata": {},
     "output_type": "execute_result"
    }
   ],
   "source": [
    "# We can view all of the classes that automap found\n",
    "Base.classes.keys()"
   ]
  },
  {
   "cell_type": "code",
   "execution_count": 5,
   "metadata": {},
   "outputs": [],
   "source": [
    "# Save references to each table\n",
    "Measurement = Base.classes.measurement\n",
    "Station = Base.classes.station"
   ]
  },
  {
   "cell_type": "code",
   "execution_count": 6,
   "metadata": {},
   "outputs": [],
   "source": [
    "# Create our session (link) from Python to the DB\n",
    "session = Session(engine)"
   ]
  },
  {
   "cell_type": "code",
   "execution_count": 7,
   "metadata": {},
   "outputs": [],
   "source": [
    "#Create app\n",
    "app = Flask(__name__)"
   ]
  },
  {
   "cell_type": "code",
   "execution_count": 8,
   "metadata": {},
   "outputs": [],
   "source": [
    "#Main route\n",
    "@app.route(\"/\")\n",
    "def main():\n",
    "    return (\n",
    "        f\"Available Routes:<br/>\"\n",
    "        f\"/api/v1.0/precipitation<br/>\"\n",
    "        f\"/api/v1.0/stations<br/>\"\n",
    "        f\"/api/v1.0/tobs<br/>\"\n",
    "        f\"/api/v1.0/<start><br/>\"\n",
    "        f\"/api/v1.0/<start>/<end>\"\n",
    "    )"
   ]
  },
  {
   "cell_type": "code",
   "execution_count": 9,
   "metadata": {},
   "outputs": [],
   "source": [
    "#Precipitation route\n",
    "@app.route(\"/api/v1.0/precipitation\")\n",
    "def precipitation():\n",
    "    \n",
    "    print(\"API request for precipitation received\")\n",
    "    \n",
    "    precipitation_results = session.query(Measurement.date, Measurement.prcp).\\\n",
    "                   filter(Measurement.date.between('2016-08-23', '2017-8-23')).all()\n",
    "\n",
    "    precipitation = []\n",
    "    for result in prcp_results:\n",
    "        row = {\"date\":\"prcp\"}\n",
    "        row[\"date\"] = result[0]\n",
    "        row[\"prcp\"] = float(result[1])\n",
    "        \n",
    "        precipitation.append(row)\n",
    "\n",
    "    return jsonify(precipitation)"
   ]
  },
  {
   "cell_type": "code",
   "execution_count": 10,
   "metadata": {},
   "outputs": [],
   "source": [
    "#Stations route\n",
    "@app.route(\"/api/v1.0/stations\")\n",
    "def stations():\n",
    "    \n",
    "    print(\"API request for stations received\")\n",
    "\n",
    "    stations = session.query(Station).all()\n",
    "\n",
    "    stations_list = []\n",
    "    for station in stations:\n",
    "        station_dictionary = {}\n",
    "        station_dictionary[\"id\"] = station.id\n",
    "        station_dictionary[\"station\"] = station.station\n",
    "        station_dictionary[\"name\"] = station.name\n",
    "        station_dictionary[\"latitude\"] = station.latitude\n",
    "        station_dictionary[\"longitude\"] = station.longitude\n",
    "        station_dictionary[\"elevation\"] = station.elevation\n",
    "        \n",
    "        stations_list.append(station_dictionary)\n",
    "\n",
    "    return jsonify(stations_list)"
   ]
  },
  {
   "cell_type": "code",
   "execution_count": 11,
   "metadata": {},
   "outputs": [],
   "source": [
    "#Tobs route\n",
    "@app.route(\"/api/v1.0/tobs\")\n",
    "def tobs():\n",
    "    \n",
    "    print(\"API tobs request received\")\n",
    "    \n",
    "    tobs_results = session.query(Measurement.station, Measurement.tobs).filter(Measurement.date.between('2016-08-23', '2017-08-23')).all()\n",
    "    \n",
    "    tobs_list = []\n",
    "    for tobs in tobs_results:\n",
    "        tobs_dictionary = {}\n",
    "        tobs_dictionary[\"station\"] = tobs[0]\n",
    "        tobs_dictionary[\"tobs\"] = float(tobs[1])\n",
    "       \n",
    "        tobs_list.append(tobs_dictionary)\n",
    "        \n",
    "    return jsonify(tobs_list)"
   ]
  },
  {
   "cell_type": "code",
   "execution_count": 12,
   "metadata": {},
   "outputs": [],
   "source": [
    "def calculate_temperatures(start_date, end_date):\n",
    "    \"\"\"TMIN, TAVG, and TMAX give a list of dates.\n",
    "    \n",
    "    Arg:\n",
    "        start_date (string): Date string %y-%m-%d format\n",
    "        end_date (string): Date string %y-%m-%d format\n",
    "        \n",
    "    Return: TMIN, TAVG, TMAX\"\"\"\n",
    "    \n",
    "    \n",
    "    return session.query(func.min(Measurement.tobs), func.avg(Measurement.tobs), func.max(Measurement.tobs)).\\\n",
    "        filter(Measurement.date >= start_date).filter(Measurement.date <= end_date).all()"
   ]
  },
  {
   "cell_type": "code",
   "execution_count": 13,
   "metadata": {},
   "outputs": [],
   "source": [
    "#Start route\n",
    "@app.route(\"/api/v1.0/<start>\")\n",
    "def start(start):\n",
    "\n",
    "    print(\"API request for start date received\")\n",
    "\n",
    "    last_date_query = session.query(func.max(func.strftime(\"%y-%m-%d\", Measurement.date.between('2016-08-23', '2017-08-23')))).all()\n",
    "    max_date = last_date_query[0][0]\n",
    "\n",
    "    temperatures = calculate_temperatures(start, max_date)\n",
    "\n",
    "    return_list = []\n",
    "    date_dict = {'start_date': start, 'end_date': max_date}\n",
    "    return_list.append(date_dict)\n",
    "    return_list.append({'Observation': 'TMIN', 'Temperature': temperatures[0][0]})\n",
    "    return_list.append({'Observation': 'TAVG', 'Temperature': temperatures[0][1]})\n",
    "    return_list.append({'Observation': 'TMAX', 'Temperature': temperatures[0][2]})\n",
    "\n",
    "    return jsonify(return_list)"
   ]
  },
  {
   "cell_type": "code",
   "execution_count": 14,
   "metadata": {},
   "outputs": [],
   "source": [
    "#Start and end route\n",
    "@app.route(\"/api/v1.0/<start>/<end>\")\n",
    "def start_end(start, end):\n",
    "\n",
    "    print(\"Start date and end date API request receieved\")\n",
    "    \n",
    "    temps = calculate_temperatures(start, end)\n",
    "\n",
    "    return_list = []\n",
    "    date_dict = {'start_date': start, 'end_date': end}\n",
    "    return_list.append(date_dict)\n",
    "    return_list.append({'Observation': 'TMIN', 'Temperature': temps[0][0]})\n",
    "    return_list.append({'Observation': 'TAVG', 'Temperature': temps[0][1]})\n",
    "    return_list.append({'Observation': 'TMAX', 'Temperature': temps[0][2]})\n",
    "\n",
    "    return jsonify(return_list)"
   ]
  },
  {
   "cell_type": "code",
   "execution_count": 15,
   "metadata": {},
   "outputs": [
    {
     "name": "stdout",
     "output_type": "stream",
     "text": [
      " * Serving Flask app \"__main__\" (lazy loading)\n",
      " * Environment: production\n",
      "   WARNING: This is a development server. Do not use it in a production deployment.\n",
      "   Use a production WSGI server instead.\n",
      " * Debug mode: on\n"
     ]
    },
    {
     "name": "stderr",
     "output_type": "stream",
     "text": [
      " * Running on http://127.0.0.1:5000/ (Press CTRL+C to quit)\n",
      " * Restarting with fsevents reloader\n"
     ]
    },
    {
     "ename": "SystemExit",
     "evalue": "1",
     "output_type": "error",
     "traceback": [
      "An exception has occurred, use %tb to see the full traceback.\n",
      "\u001b[0;31mSystemExit\u001b[0m\u001b[0;31m:\u001b[0m 1\n"
     ]
    },
    {
     "name": "stderr",
     "output_type": "stream",
     "text": [
      "/opt/anaconda3/lib/python3.7/site-packages/IPython/core/interactiveshell.py:3339: UserWarning: To exit: use 'exit', 'quit', or Ctrl-D.\n",
      "  warn(\"To exit: use 'exit', 'quit', or Ctrl-D.\", stacklevel=1)\n"
     ]
    }
   ],
   "source": [
    "if __name__ == \"__main__\":\n",
    "    app.run(debug = True)"
   ]
  },
  {
   "cell_type": "code",
   "execution_count": null,
   "metadata": {},
   "outputs": [],
   "source": []
  }
 ],
 "metadata": {
  "kernelspec": {
   "display_name": "Python 3",
   "language": "python",
   "name": "python3"
  },
  "language_info": {
   "codemirror_mode": {
    "name": "ipython",
    "version": 3
   },
   "file_extension": ".py",
   "mimetype": "text/x-python",
   "name": "python",
   "nbconvert_exporter": "python",
   "pygments_lexer": "ipython3",
   "version": "3.7.6"
  }
 },
 "nbformat": 4,
 "nbformat_minor": 4
}
